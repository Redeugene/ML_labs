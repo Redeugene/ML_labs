{
 "cells": [
  {
   "cell_type": "code",
   "execution_count": 1,
   "metadata": {},
   "outputs": [],
   "source": [
    "import matplotlib.pyplot as plt\n",
    "import numpy as np\n",
    "import pandas as pd"
   ]
  },
  {
   "cell_type": "code",
   "execution_count": 2,
   "metadata": {},
   "outputs": [],
   "source": [
    "data = pd.read_csv(r'C:\\Users\\pc\\Downloads\\SAheart.data', sep=',', index_col=0)"
   ]
  },
  {
   "cell_type": "code",
   "execution_count": 3,
   "metadata": {},
   "outputs": [
    {
     "data": {
      "text/html": [
       "<div>\n",
       "<style scoped>\n",
       "    .dataframe tbody tr th:only-of-type {\n",
       "        vertical-align: middle;\n",
       "    }\n",
       "\n",
       "    .dataframe tbody tr th {\n",
       "        vertical-align: top;\n",
       "    }\n",
       "\n",
       "    .dataframe thead th {\n",
       "        text-align: right;\n",
       "    }\n",
       "</style>\n",
       "<table border=\"1\" class=\"dataframe\">\n",
       "  <thead>\n",
       "    <tr style=\"text-align: right;\">\n",
       "      <th></th>\n",
       "      <th>sbp</th>\n",
       "      <th>tobacco</th>\n",
       "      <th>ldl</th>\n",
       "      <th>adiposity</th>\n",
       "      <th>famhist</th>\n",
       "      <th>typea</th>\n",
       "      <th>obesity</th>\n",
       "      <th>alcohol</th>\n",
       "      <th>age</th>\n",
       "      <th>chd</th>\n",
       "    </tr>\n",
       "    <tr>\n",
       "      <th>row.names</th>\n",
       "      <th></th>\n",
       "      <th></th>\n",
       "      <th></th>\n",
       "      <th></th>\n",
       "      <th></th>\n",
       "      <th></th>\n",
       "      <th></th>\n",
       "      <th></th>\n",
       "      <th></th>\n",
       "      <th></th>\n",
       "    </tr>\n",
       "  </thead>\n",
       "  <tbody>\n",
       "    <tr>\n",
       "      <th>1</th>\n",
       "      <td>160</td>\n",
       "      <td>12.00</td>\n",
       "      <td>5.73</td>\n",
       "      <td>23.11</td>\n",
       "      <td>Present</td>\n",
       "      <td>49</td>\n",
       "      <td>25.30</td>\n",
       "      <td>97.20</td>\n",
       "      <td>52</td>\n",
       "      <td>1</td>\n",
       "    </tr>\n",
       "    <tr>\n",
       "      <th>2</th>\n",
       "      <td>144</td>\n",
       "      <td>0.01</td>\n",
       "      <td>4.41</td>\n",
       "      <td>28.61</td>\n",
       "      <td>Absent</td>\n",
       "      <td>55</td>\n",
       "      <td>28.87</td>\n",
       "      <td>2.06</td>\n",
       "      <td>63</td>\n",
       "      <td>1</td>\n",
       "    </tr>\n",
       "    <tr>\n",
       "      <th>3</th>\n",
       "      <td>118</td>\n",
       "      <td>0.08</td>\n",
       "      <td>3.48</td>\n",
       "      <td>32.28</td>\n",
       "      <td>Present</td>\n",
       "      <td>52</td>\n",
       "      <td>29.14</td>\n",
       "      <td>3.81</td>\n",
       "      <td>46</td>\n",
       "      <td>0</td>\n",
       "    </tr>\n",
       "    <tr>\n",
       "      <th>4</th>\n",
       "      <td>170</td>\n",
       "      <td>7.50</td>\n",
       "      <td>6.41</td>\n",
       "      <td>38.03</td>\n",
       "      <td>Present</td>\n",
       "      <td>51</td>\n",
       "      <td>31.99</td>\n",
       "      <td>24.26</td>\n",
       "      <td>58</td>\n",
       "      <td>1</td>\n",
       "    </tr>\n",
       "    <tr>\n",
       "      <th>5</th>\n",
       "      <td>134</td>\n",
       "      <td>13.60</td>\n",
       "      <td>3.50</td>\n",
       "      <td>27.78</td>\n",
       "      <td>Present</td>\n",
       "      <td>60</td>\n",
       "      <td>25.99</td>\n",
       "      <td>57.34</td>\n",
       "      <td>49</td>\n",
       "      <td>1</td>\n",
       "    </tr>\n",
       "  </tbody>\n",
       "</table>\n",
       "</div>"
      ],
      "text/plain": [
       "           sbp  tobacco   ldl  adiposity  famhist  typea  obesity  alcohol  \\\n",
       "row.names                                                                    \n",
       "1          160    12.00  5.73      23.11  Present     49    25.30    97.20   \n",
       "2          144     0.01  4.41      28.61   Absent     55    28.87     2.06   \n",
       "3          118     0.08  3.48      32.28  Present     52    29.14     3.81   \n",
       "4          170     7.50  6.41      38.03  Present     51    31.99    24.26   \n",
       "5          134    13.60  3.50      27.78  Present     60    25.99    57.34   \n",
       "\n",
       "           age  chd  \n",
       "row.names            \n",
       "1           52    1  \n",
       "2           63    1  \n",
       "3           46    0  \n",
       "4           58    1  \n",
       "5           49    1  "
      ]
     },
     "execution_count": 3,
     "metadata": {},
     "output_type": "execute_result"
    }
   ],
   "source": [
    "data.head()"
   ]
  },
  {
   "cell_type": "code",
   "execution_count": 4,
   "metadata": {},
   "outputs": [
    {
     "name": "stdout",
     "output_type": "stream",
     "text": [
      "<class 'pandas.core.frame.DataFrame'>\n",
      "Int64Index: 462 entries, 1 to 463\n",
      "Data columns (total 10 columns):\n",
      " #   Column     Non-Null Count  Dtype  \n",
      "---  ------     --------------  -----  \n",
      " 0   sbp        462 non-null    int64  \n",
      " 1   tobacco    462 non-null    float64\n",
      " 2   ldl        462 non-null    float64\n",
      " 3   adiposity  462 non-null    float64\n",
      " 4   famhist    462 non-null    object \n",
      " 5   typea      462 non-null    int64  \n",
      " 6   obesity    462 non-null    float64\n",
      " 7   alcohol    462 non-null    float64\n",
      " 8   age        462 non-null    int64  \n",
      " 9   chd        462 non-null    int64  \n",
      "dtypes: float64(5), int64(4), object(1)\n",
      "memory usage: 39.7+ KB\n"
     ]
    }
   ],
   "source": [
    "data.info()"
   ]
  },
  {
   "cell_type": "code",
   "execution_count": 3,
   "metadata": {},
   "outputs": [
    {
     "data": {
      "text/html": [
       "<div>\n",
       "<style scoped>\n",
       "    .dataframe tbody tr th:only-of-type {\n",
       "        vertical-align: middle;\n",
       "    }\n",
       "\n",
       "    .dataframe tbody tr th {\n",
       "        vertical-align: top;\n",
       "    }\n",
       "\n",
       "    .dataframe thead th {\n",
       "        text-align: right;\n",
       "    }\n",
       "</style>\n",
       "<table border=\"1\" class=\"dataframe\">\n",
       "  <thead>\n",
       "    <tr style=\"text-align: right;\">\n",
       "      <th></th>\n",
       "      <th>sbp</th>\n",
       "      <th>tobacco</th>\n",
       "      <th>ldl</th>\n",
       "      <th>adiposity</th>\n",
       "      <th>famhist</th>\n",
       "      <th>typea</th>\n",
       "      <th>obesity</th>\n",
       "      <th>alcohol</th>\n",
       "      <th>age</th>\n",
       "      <th>chd</th>\n",
       "    </tr>\n",
       "    <tr>\n",
       "      <th>row.names</th>\n",
       "      <th></th>\n",
       "      <th></th>\n",
       "      <th></th>\n",
       "      <th></th>\n",
       "      <th></th>\n",
       "      <th></th>\n",
       "      <th></th>\n",
       "      <th></th>\n",
       "      <th></th>\n",
       "      <th></th>\n",
       "    </tr>\n",
       "  </thead>\n",
       "  <tbody>\n",
       "    <tr>\n",
       "      <th>1</th>\n",
       "      <td>160</td>\n",
       "      <td>12.00</td>\n",
       "      <td>5.73</td>\n",
       "      <td>23.11</td>\n",
       "      <td>1</td>\n",
       "      <td>49</td>\n",
       "      <td>25.30</td>\n",
       "      <td>97.20</td>\n",
       "      <td>52</td>\n",
       "      <td>1</td>\n",
       "    </tr>\n",
       "    <tr>\n",
       "      <th>2</th>\n",
       "      <td>144</td>\n",
       "      <td>0.01</td>\n",
       "      <td>4.41</td>\n",
       "      <td>28.61</td>\n",
       "      <td>0</td>\n",
       "      <td>55</td>\n",
       "      <td>28.87</td>\n",
       "      <td>2.06</td>\n",
       "      <td>63</td>\n",
       "      <td>1</td>\n",
       "    </tr>\n",
       "    <tr>\n",
       "      <th>3</th>\n",
       "      <td>118</td>\n",
       "      <td>0.08</td>\n",
       "      <td>3.48</td>\n",
       "      <td>32.28</td>\n",
       "      <td>1</td>\n",
       "      <td>52</td>\n",
       "      <td>29.14</td>\n",
       "      <td>3.81</td>\n",
       "      <td>46</td>\n",
       "      <td>0</td>\n",
       "    </tr>\n",
       "    <tr>\n",
       "      <th>4</th>\n",
       "      <td>170</td>\n",
       "      <td>7.50</td>\n",
       "      <td>6.41</td>\n",
       "      <td>38.03</td>\n",
       "      <td>1</td>\n",
       "      <td>51</td>\n",
       "      <td>31.99</td>\n",
       "      <td>24.26</td>\n",
       "      <td>58</td>\n",
       "      <td>1</td>\n",
       "    </tr>\n",
       "    <tr>\n",
       "      <th>5</th>\n",
       "      <td>134</td>\n",
       "      <td>13.60</td>\n",
       "      <td>3.50</td>\n",
       "      <td>27.78</td>\n",
       "      <td>1</td>\n",
       "      <td>60</td>\n",
       "      <td>25.99</td>\n",
       "      <td>57.34</td>\n",
       "      <td>49</td>\n",
       "      <td>1</td>\n",
       "    </tr>\n",
       "  </tbody>\n",
       "</table>\n",
       "</div>"
      ],
      "text/plain": [
       "           sbp  tobacco   ldl  adiposity  famhist  typea  obesity  alcohol  \\\n",
       "row.names                                                                    \n",
       "1          160    12.00  5.73      23.11        1     49    25.30    97.20   \n",
       "2          144     0.01  4.41      28.61        0     55    28.87     2.06   \n",
       "3          118     0.08  3.48      32.28        1     52    29.14     3.81   \n",
       "4          170     7.50  6.41      38.03        1     51    31.99    24.26   \n",
       "5          134    13.60  3.50      27.78        1     60    25.99    57.34   \n",
       "\n",
       "           age  chd  \n",
       "row.names            \n",
       "1           52    1  \n",
       "2           63    1  \n",
       "3           46    0  \n",
       "4           58    1  \n",
       "5           49    1  "
      ]
     },
     "execution_count": 3,
     "metadata": {},
     "output_type": "execute_result"
    }
   ],
   "source": [
    "#data['famhist_true'] = data['famhist'] == 'Present'\n",
    "#data['famhist_false'] = data['famhist'] == 'Absent'\n",
    "#data = data.drop(['famhist'], axis=1)\n",
    "data['famhist'] = data['famhist'].astype('category').cat.codes\n",
    "data.head()"
   ]
  },
  {
   "cell_type": "code",
   "execution_count": 31,
   "metadata": {},
   "outputs": [
    {
     "data": {
      "text/html": [
       "<div>\n",
       "<style scoped>\n",
       "    .dataframe tbody tr th:only-of-type {\n",
       "        vertical-align: middle;\n",
       "    }\n",
       "\n",
       "    .dataframe tbody tr th {\n",
       "        vertical-align: top;\n",
       "    }\n",
       "\n",
       "    .dataframe thead th {\n",
       "        text-align: right;\n",
       "    }\n",
       "</style>\n",
       "<table border=\"1\" class=\"dataframe\">\n",
       "  <thead>\n",
       "    <tr style=\"text-align: right;\">\n",
       "      <th></th>\n",
       "      <th>sbp</th>\n",
       "      <th>tobacco</th>\n",
       "      <th>ldl</th>\n",
       "      <th>adiposity</th>\n",
       "      <th>famhist</th>\n",
       "      <th>typea</th>\n",
       "      <th>obesity</th>\n",
       "      <th>alcohol</th>\n",
       "      <th>age</th>\n",
       "      <th>chd</th>\n",
       "    </tr>\n",
       "  </thead>\n",
       "  <tbody>\n",
       "    <tr>\n",
       "      <th>count</th>\n",
       "      <td>462.000000</td>\n",
       "      <td>462.000000</td>\n",
       "      <td>462.000000</td>\n",
       "      <td>462.000000</td>\n",
       "      <td>462.000000</td>\n",
       "      <td>462.000000</td>\n",
       "      <td>462.000000</td>\n",
       "      <td>462.000000</td>\n",
       "      <td>462.000000</td>\n",
       "      <td>462.000000</td>\n",
       "    </tr>\n",
       "    <tr>\n",
       "      <th>mean</th>\n",
       "      <td>138.326840</td>\n",
       "      <td>3.635649</td>\n",
       "      <td>4.740325</td>\n",
       "      <td>25.406732</td>\n",
       "      <td>0.415584</td>\n",
       "      <td>53.103896</td>\n",
       "      <td>26.044113</td>\n",
       "      <td>17.044394</td>\n",
       "      <td>42.816017</td>\n",
       "      <td>0.346320</td>\n",
       "    </tr>\n",
       "    <tr>\n",
       "      <th>std</th>\n",
       "      <td>20.496317</td>\n",
       "      <td>4.593024</td>\n",
       "      <td>2.070909</td>\n",
       "      <td>7.780699</td>\n",
       "      <td>0.493357</td>\n",
       "      <td>9.817534</td>\n",
       "      <td>4.213680</td>\n",
       "      <td>24.481059</td>\n",
       "      <td>14.608956</td>\n",
       "      <td>0.476313</td>\n",
       "    </tr>\n",
       "    <tr>\n",
       "      <th>min</th>\n",
       "      <td>101.000000</td>\n",
       "      <td>0.000000</td>\n",
       "      <td>0.980000</td>\n",
       "      <td>6.740000</td>\n",
       "      <td>0.000000</td>\n",
       "      <td>13.000000</td>\n",
       "      <td>14.700000</td>\n",
       "      <td>0.000000</td>\n",
       "      <td>15.000000</td>\n",
       "      <td>0.000000</td>\n",
       "    </tr>\n",
       "    <tr>\n",
       "      <th>25%</th>\n",
       "      <td>124.000000</td>\n",
       "      <td>0.052500</td>\n",
       "      <td>3.282500</td>\n",
       "      <td>19.775000</td>\n",
       "      <td>0.000000</td>\n",
       "      <td>47.000000</td>\n",
       "      <td>22.985000</td>\n",
       "      <td>0.510000</td>\n",
       "      <td>31.000000</td>\n",
       "      <td>0.000000</td>\n",
       "    </tr>\n",
       "    <tr>\n",
       "      <th>50%</th>\n",
       "      <td>134.000000</td>\n",
       "      <td>2.000000</td>\n",
       "      <td>4.340000</td>\n",
       "      <td>26.115000</td>\n",
       "      <td>0.000000</td>\n",
       "      <td>53.000000</td>\n",
       "      <td>25.805000</td>\n",
       "      <td>7.510000</td>\n",
       "      <td>45.000000</td>\n",
       "      <td>0.000000</td>\n",
       "    </tr>\n",
       "    <tr>\n",
       "      <th>75%</th>\n",
       "      <td>148.000000</td>\n",
       "      <td>5.500000</td>\n",
       "      <td>5.790000</td>\n",
       "      <td>31.227500</td>\n",
       "      <td>1.000000</td>\n",
       "      <td>60.000000</td>\n",
       "      <td>28.497500</td>\n",
       "      <td>23.892500</td>\n",
       "      <td>55.000000</td>\n",
       "      <td>1.000000</td>\n",
       "    </tr>\n",
       "    <tr>\n",
       "      <th>max</th>\n",
       "      <td>218.000000</td>\n",
       "      <td>31.200000</td>\n",
       "      <td>15.330000</td>\n",
       "      <td>42.490000</td>\n",
       "      <td>1.000000</td>\n",
       "      <td>78.000000</td>\n",
       "      <td>46.580000</td>\n",
       "      <td>147.190000</td>\n",
       "      <td>64.000000</td>\n",
       "      <td>1.000000</td>\n",
       "    </tr>\n",
       "  </tbody>\n",
       "</table>\n",
       "</div>"
      ],
      "text/plain": [
       "              sbp     tobacco         ldl   adiposity     famhist       typea  \\\n",
       "count  462.000000  462.000000  462.000000  462.000000  462.000000  462.000000   \n",
       "mean   138.326840    3.635649    4.740325   25.406732    0.415584   53.103896   \n",
       "std     20.496317    4.593024    2.070909    7.780699    0.493357    9.817534   \n",
       "min    101.000000    0.000000    0.980000    6.740000    0.000000   13.000000   \n",
       "25%    124.000000    0.052500    3.282500   19.775000    0.000000   47.000000   \n",
       "50%    134.000000    2.000000    4.340000   26.115000    0.000000   53.000000   \n",
       "75%    148.000000    5.500000    5.790000   31.227500    1.000000   60.000000   \n",
       "max    218.000000   31.200000   15.330000   42.490000    1.000000   78.000000   \n",
       "\n",
       "          obesity     alcohol         age         chd  \n",
       "count  462.000000  462.000000  462.000000  462.000000  \n",
       "mean    26.044113   17.044394   42.816017    0.346320  \n",
       "std      4.213680   24.481059   14.608956    0.476313  \n",
       "min     14.700000    0.000000   15.000000    0.000000  \n",
       "25%     22.985000    0.510000   31.000000    0.000000  \n",
       "50%     25.805000    7.510000   45.000000    0.000000  \n",
       "75%     28.497500   23.892500   55.000000    1.000000  \n",
       "max     46.580000  147.190000   64.000000    1.000000  "
      ]
     },
     "execution_count": 31,
     "metadata": {},
     "output_type": "execute_result"
    }
   ],
   "source": [
    "data.describe()"
   ]
  },
  {
   "cell_type": "code",
   "execution_count": 4,
   "metadata": {},
   "outputs": [
    {
     "data": {
      "text/plain": [
       "[{'sbp': -0.001636863578247508},\n",
       " {'tobacco': 0.08140207396758645},\n",
       " {'ldl': 0.16365095607974678},\n",
       " {'adiposity': 0.04675265304107337},\n",
       " {'famhist': 0.868169680491648},\n",
       " {'typea': 0.02107697526392072},\n",
       " {'obesity': -0.12937400003932034},\n",
       " {'alcohol': -3.312918267332428e-05},\n",
       " {'age': 0.03378212266202374}]"
      ]
     },
     "execution_count": 4,
     "metadata": {},
     "output_type": "execute_result"
    }
   ],
   "source": [
    "from sklearn.linear_model import LogisticRegression\n",
    "x = data.drop(columns = ['chd']).to_numpy()[:-5]\n",
    "y = data['chd'].to_numpy()[:-5]\n",
    "model = LogisticRegression(solver = 'liblinear', random_state = 10).fit(x, y)\n",
    "[{i:j} for i,j in zip(data.drop(columns = ['chd']).columns.tolist(), model.coef_.tolist()[0])]"
   ]
  },
  {
   "cell_type": "code",
   "execution_count": 23,
   "metadata": {},
   "outputs": [
    {
     "data": {
      "text/plain": [
       "array([[160, 12.0, 5.73, ..., 52, True, False],\n",
       "       [144, 0.01, 4.41, ..., 63, False, True],\n",
       "       [118, 0.08, 3.48, ..., 46, True, False],\n",
       "       ...,\n",
       "       [108, 3.0, 1.59, ..., 55, False, True],\n",
       "       [118, 5.4, 11.61, ..., 40, False, True],\n",
       "       [132, 0.0, 4.82, ..., 46, True, False]], dtype=object)"
      ]
     },
     "execution_count": 23,
     "metadata": {},
     "output_type": "execute_result"
    }
   ],
   "source": [
    "x = data.drop(columns = ['chd']).to_numpy()\n",
    "x"
   ]
  },
  {
   "cell_type": "code",
   "execution_count": 74,
   "metadata": {},
   "outputs": [
    {
     "data": {
      "text/plain": [
       "<matplotlib.legend.Legend at 0x2848db81fa0>"
      ]
     },
     "execution_count": 74,
     "metadata": {},
     "output_type": "execute_result"
    },
    {
     "data": {
      "image/png": "[encoded data removed]",
      "text/plain": [
       "<Figure size 432x288 with 1 Axes>"
      ]
     },
     "metadata": {
      "needs_background": "light"
     },
     "output_type": "display_data"
    }
   ],
   "source": [
    "y_predict = model.predict(x)\n",
    "import numpy as np\n",
    "def sigmoid(x):\n",
    "  return 1 / (1 + np.exp(-x))\n",
    "import matplotlib.pyplot as plt\n",
    "ldl = data['ldl']\n",
    "sigmoida = sigmoid(ldl)\n",
    "plt.scatter(ldl,y, c = y,label = \"source points\")\n",
    "plt.scatter(ldl,sigmoida,c=\"green\", label = \"logistic fit\")\n",
    "plt.legend()"
   ]
  },
  {
   "cell_type": "code",
   "execution_count": 40,
   "metadata": {},
   "outputs": [
    {
     "data": {
      "text/plain": [
       "<AxesSubplot:xlabel='ldl', ylabel='chd'>"
      ]
     },
     "execution_count": 40,
     "metadata": {},
     "output_type": "execute_result"
    },
    {
     "data": {
      "image/png": "[encoded data removed]",
      "text/plain": [
       "<Figure size 432x288 with 1 Axes>"
      ]
     },
     "metadata": {
      "needs_background": "light"
     },
     "output_type": "display_data"
    }
   ],
   "source": [
    "import seaborn as sns\n",
    "sns.regplot(x=data['tobacco'], y=data['chd'], logistic=True, ci=None)"
   ]
  },
  {
   "cell_type": "code",
   "execution_count": 32,
   "metadata": {},
   "outputs": [
    {
     "data": {
      "text/plain": [
       "<matplotlib.legend.Legend at 0x2041cf5d220>"
      ]
     },
     "execution_count": 32,
     "metadata": {},
     "output_type": "execute_result"
    },
    {
     "data": {
      "image/png": "[encoded data removed]",
      "text/plain": [
       "<Figure size 432x288 with 1 Axes>"
      ]
     },
     "metadata": {
      "needs_background": "light"
     },
     "output_type": "display_data"
    }
   ],
   "source": [
    "x = data['tobacco'].to_numpy().reshape(-1,1)\n",
    "y = data['chd'].to_numpy()\n",
    "model = LogisticRegression(solver = 'liblinear', random_state = 10).fit(x, y)\n",
    "from scipy.special import expit\n",
    "y_predict = x * model.coef_ + model.intercept_\n",
    "sigmoid = expit(y_predict)\n",
    "plt.plot(x,sigmoid.ravel(),c=\"green\", label = \"logistic fit\")\n",
    "plt.scatter(x,y, c = y,label = \"source points\")\n",
    "plt.legend()"
   ]
  },
  {
   "cell_type": "code",
   "execution_count": 86,
   "metadata": {},
   "outputs": [
    {
     "data": {
      "text/plain": [
       "0.7337662337662337"
      ]
     },
     "execution_count": 86,
     "metadata": {},
     "output_type": "execute_result"
    }
   ],
   "source": [
    "model.score(x,y)"
   ]
  },
  {
   "cell_type": "code",
   "execution_count": 106,
   "metadata": {},
   "outputs": [
    {
     "name": "stdout",
     "output_type": "stream",
     "text": [
      "Predict value : Real value\n"
     ]
    },
    {
     "data": {
      "text/plain": [
       "[{0: 0}, {0: 0}, {0: 1}, {0: 0}, {0: 1}, {0: 0}]"
      ]
     },
     "execution_count": 106,
     "metadata": {},
     "output_type": "execute_result"
    }
   ],
   "source": [
    "print('Predict value : Real value')\n",
    "[{i:j} for i,j in zip(model.predict(x_test), y_test)]"
   ]
  },
  {
   "cell_type": "code",
   "execution_count": 23,
   "metadata": {},
   "outputs": [],
   "source": [
    "x_test = data.loc[90:95,:].drop(columns = ['chd']).to_numpy()\n",
    "y_test = data.loc[90:95,:]['chd'].to_numpy()"
   ]
  },
  {
   "cell_type": "code",
   "execution_count": 38,
   "metadata": {},
   "outputs": [
    {
     "data": {
      "text/plain": [
       "0.7012987012987013"
      ]
     },
     "execution_count": 38,
     "metadata": {},
     "output_type": "execute_result"
    }
   ],
   "source": [
    "model = LogisticRegression(solver = 'liblinear', random_state = 10).fit(x, y)\n",
    "model.score(x,y)"
   ]
  },
  {
   "cell_type": "code",
   "execution_count": 8,
   "metadata": {},
   "outputs": [
    {
     "data": {
      "text/plain": [
       "<AxesSubplot:>"
      ]
     },
     "execution_count": 8,
     "metadata": {},
     "output_type": "execute_result"
    },
    {
     "data": {
      "image/png": "[encoded data removed]",
      "text/plain": [
       "<Figure size 432x288 with 2 Axes>"
      ]
     },
     "metadata": {
      "needs_background": "light"
     },
     "output_type": "display_data"
    }
   ],
   "source": [
    "import seaborn as sns\n",
    "corr_matrix = data.corr(method = 'spearman')\n",
    "sns.heatmap(corr_matrix, cmap=\"YlGnBu\")"
   ]
  },
  {
   "cell_type": "code",
   "execution_count": 12,
   "metadata": {},
   "outputs": [
    {
     "data": {
      "text/plain": [
       "<AxesSubplot:>"
      ]
     },
     "execution_count": 12,
     "metadata": {},
     "output_type": "execute_result"
    },
    {
     "data": {
      "image/png": "[encoded data removed]",
      "text/plain": [
       "<Figure size 432x288 with 1 Axes>"
      ]
     },
     "metadata": {
      "needs_background": "light"
     },
     "output_type": "display_data"
    }
   ],
   "source": [
    "data['ldl'].hist()"
   ]
  },
  {
   "cell_type": "code",
   "execution_count": 14,
   "metadata": {},
   "outputs": [
    {
     "data": {
      "text/plain": [
       "chd          1.000000\n",
       "age          0.366867\n",
       "tobacco      0.322622\n",
       "famhist      0.272373\n",
       "ldl          0.270855\n",
       "adiposity    0.245339\n",
       "sbp          0.172433\n",
       "obesity      0.107738\n",
       "typea        0.090444\n",
       "alcohol      0.063811\n",
       "Name: chd, dtype: float64"
      ]
     },
     "execution_count": 14,
     "metadata": {},
     "output_type": "execute_result"
    }
   ],
   "source": [
    "corr_matrix['chd'].sort_values(ascending = False)"
   ]
  },
  {
   "cell_type": "code",
   "execution_count": 21,
   "metadata": {},
   "outputs": [
    {
     "name": "stdout",
     "output_type": "stream",
     "text": [
      "Coef =  0.14248853686816118 ; Intercept =  -1.1666760478104878\n"
     ]
    }
   ],
   "source": [
    "from sklearn.linear_model import LogisticRegression\n",
    "x = data['tobacco'].to_numpy().reshape(-1,1)[:-5]\n",
    "y = data['chd'].to_numpy()[:-5]\n",
    "model = LogisticRegression(solver = 'liblinear', random_state = 10).fit(x, y)\n",
    "print('Coef = ', model.coef_[0][0], '; Intercept = ', model.intercept_[0])"
   ]
  },
  {
   "cell_type": "code",
   "execution_count": 48,
   "metadata": {},
   "outputs": [
    {
     "name": "stdout",
     "output_type": "stream",
     "text": [
      "Predict value : Real value\n"
     ]
    },
    {
     "data": {
      "text/plain": [
       "[{0: 0}, {0: 0}, {0: 1}, {0: 0}, {0: 1}, {0: 0}]"
      ]
     },
     "execution_count": 48,
     "metadata": {},
     "output_type": "execute_result"
    }
   ],
   "source": [
    "print('Predict value : Real value')\n",
    "[{i:j} for i,j in zip(model.predict(x_test), y_test)]"
   ]
  },
  {
   "cell_type": "code",
   "execution_count": 30,
   "metadata": {},
   "outputs": [],
   "source": [
    "x_test = data.loc[90:95,:]['tobacco'].to_numpy().reshape(-1,1)"
   ]
  },
  {
   "cell_type": "code",
   "execution_count": 39,
   "metadata": {},
   "outputs": [
    {
     "data": {
      "text/plain": [
       "<matplotlib.legend.Legend at 0x2041cfe6460>"
      ]
     },
     "execution_count": 39,
     "metadata": {},
     "output_type": "execute_result"
    },
    {
     "data": {
      "image/png": "[encoded data removed]",
      "text/plain": [
       "<Figure size 432x288 with 1 Axes>"
      ]
     },
     "metadata": {
      "needs_background": "light"
     },
     "output_type": "display_data"
    }
   ],
   "source": [
    "import matplotlib.pyplot as plt\n",
    "y_predict = x * model.coef_ + model.intercept_\n",
    "plt.plot(x,y_predict,c=\"green\", label = \"logistic fit\")\n",
    "plt.scatter(x,y, c = y,label = \"source points\")\n",
    "plt.legend()"
   ]
  },
  {
   "cell_type": "code",
   "execution_count": 42,
   "metadata": {},
   "outputs": [],
   "source": [
    "proba = model.predict_proba(x_test)"
   ]
  },
  {
   "cell_type": "code",
   "execution_count": 52,
   "metadata": {},
   "outputs": [
    {
     "data": {
      "text/plain": [
       "<matplotlib.legend.Legend at 0x2041e3e2d90>"
      ]
     },
     "execution_count": 52,
     "metadata": {},
     "output_type": "execute_result"
    },
    {
     "data": {
      "image/png": "[encoded data removed]",
      "text/plain": [
       "<Figure size 432x288 with 1 Axes>"
      ]
     },
     "metadata": {
      "needs_background": "light"
     },
     "output_type": "display_data"
    }
   ],
   "source": [
    "proba = model.predict_proba(x[:5])\n",
    "proba = pd.DataFrame(proba)\n",
    "proba = proba[1].to_list()\n",
    "plt.scatter(x[:5],y[:5], c = y[:5],label = \"source points\")\n",
    "plt.scatter(x[:5],proba,label = \"predicted points\", c = 'green')\n",
    "plt.legend()"
   ]
  },
  {
   "cell_type": "code",
   "execution_count": 51,
   "metadata": {},
   "outputs": [
    {
     "data": {
      "text/plain": [
       "array([[1.20e+01],\n",
       "       [1.00e-02],\n",
       "       [8.00e-02],\n",
       "       [7.50e+00],\n",
       "       [1.36e+01]])"
      ]
     },
     "execution_count": 51,
     "metadata": {},
     "output_type": "execute_result"
    }
   ],
   "source": [
    "x[:5]"
   ]
  },
  {
   "cell_type": "code",
   "execution_count": 54,
   "metadata": {},
   "outputs": [
    {
     "data": {
      "text/plain": [
       "array([[1.200e+01],\n",
       "       [1.000e-02],\n",
       "       [8.000e-02],\n",
       "       [7.500e+00],\n",
       "       [1.360e+01],\n",
       "       [6.200e+00],\n",
       "       [4.050e+00],\n",
       "       [4.080e+00],\n",
       "       [0.000e+00],\n",
       "       [0.000e+00],\n",
       "       [6.000e+00],\n",
       "       [1.410e+01],\n",
       "       [0.000e+00],\n",
       "       [0.000e+00],\n",
       "       [9.650e+00],\n",
       "       [1.530e+00],\n",
       "       [7.500e+00],\n",
       "       [1.050e+01],\n",
       "       [2.600e+00],\n",
       "       [1.400e+01],\n",
       "       [1.610e+00],\n",
       "       [7.900e+00],\n",
       "       [3.000e-01],\n",
       "       [6.000e-01],\n",
       "       [1.820e+01],\n",
       "       [4.000e+00],\n",
       "       [6.000e+00],\n",
       "       [9.100e+00],\n",
       "       [4.090e+00],\n",
       "       [0.000e+00],\n",
       "       [2.520e+00],\n",
       "       [1.020e+00],\n",
       "       [6.600e+00],\n",
       "       [8.750e+00],\n",
       "       [5.500e+00],\n",
       "       [4.260e+00],\n",
       "       [3.900e+00],\n",
       "       [4.640e+00],\n",
       "       [0.000e+00],\n",
       "       [1.120e+01],\n",
       "       [2.800e-01],\n",
       "       [4.000e-02],\n",
       "       [0.000e+00],\n",
       "       [2.610e+00],\n",
       "       [0.000e+00],\n",
       "       [4.650e+00],\n",
       "       [7.400e+00],\n",
       "       [1.910e+00],\n",
       "       [0.000e+00],\n",
       "       [3.800e+00],\n",
       "       [0.000e+00],\n",
       "       [2.500e+00],\n",
       "       [9.000e-01],\n",
       "       [8.080e+00],\n",
       "       [3.000e+00],\n",
       "       [5.990e+00],\n",
       "       [0.000e+00],\n",
       "       [5.100e+00],\n",
       "       [3.000e-02],\n",
       "       [8.000e-01],\n",
       "       [2.800e-01],\n",
       "       [1.150e+00],\n",
       "       [1.010e+01],\n",
       "       [4.500e-01],\n",
       "       [0.000e+00],\n",
       "       [7.360e+00],\n",
       "       [4.820e+00],\n",
       "       [4.100e-01],\n",
       "       [4.460e+00],\n",
       "       [0.000e+00],\n",
       "       [0.000e+00],\n",
       "       [1.720e+00],\n",
       "       [5.600e+00],\n",
       "       [9.000e-02],\n",
       "       [4.000e-01],\n",
       "       [0.000e+00],\n",
       "       [0.000e+00],\n",
       "       [6.000e-01],\n",
       "       [4.500e+00],\n",
       "       [4.000e-01],\n",
       "       [3.000e+00],\n",
       "       [8.140e+00],\n",
       "       [4.800e+00],\n",
       "       [1.220e+01],\n",
       "       [0.000e+00],\n",
       "       [5.600e-01],\n",
       "       [1.050e+01],\n",
       "       [0.000e+00],\n",
       "       [9.000e-01],\n",
       "       [7.200e-01],\n",
       "       [1.030e+00],\n",
       "       [3.700e+00],\n",
       "       [4.600e-01],\n",
       "       [4.000e+00],\n",
       "       [1.700e+00],\n",
       "       [3.000e+00],\n",
       "       [2.160e+00],\n",
       "       [0.000e+00],\n",
       "       [3.200e+00],\n",
       "       [1.200e+01],\n",
       "       [8.000e+00],\n",
       "       [7.000e-02],\n",
       "       [0.000e+00],\n",
       "       [4.200e-01],\n",
       "       [1.500e+00],\n",
       "       [3.600e+00],\n",
       "       [1.500e+00],\n",
       "       [7.600e+00],\n",
       "       [1.000e+00],\n",
       "       [0.000e+00],\n",
       "       [0.000e+00],\n",
       "       [9.000e+00],\n",
       "       [2.000e+00],\n",
       "       [0.000e+00],\n",
       "       [3.120e+01],\n",
       "       [0.000e+00],\n",
       "       [4.500e+00],\n",
       "       [7.000e-01],\n",
       "       [3.500e+00],\n",
       "       [0.000e+00],\n",
       "       [2.000e+00],\n",
       "       [1.400e+00],\n",
       "       [0.000e+00],\n",
       "       [4.500e+00],\n",
       "       [7.800e+00],\n",
       "       [8.600e+00],\n",
       "       [4.040e+00],\n",
       "       [3.960e+00],\n",
       "       [8.800e+00],\n",
       "       [1.218e+01],\n",
       "       [1.350e+01],\n",
       "       [2.000e+00],\n",
       "       [1.500e+00],\n",
       "       [7.440e+00],\n",
       "       [6.000e+00],\n",
       "       [4.180e+00],\n",
       "       [2.700e+00],\n",
       "       [5.000e-01],\n",
       "       [0.000e+00],\n",
       "       [0.000e+00],\n",
       "       [1.400e+01],\n",
       "       [2.780e+00],\n",
       "       [2.800e+00],\n",
       "       [4.500e+00],\n",
       "       [1.200e+00],\n",
       "       [0.000e+00],\n",
       "       [1.050e+00],\n",
       "       [3.460e+00],\n",
       "       [1.500e+00],\n",
       "       [1.550e+01],\n",
       "       [6.000e+00],\n",
       "       [6.600e+00],\n",
       "       [2.800e-01],\n",
       "       [0.000e+00],\n",
       "       [3.040e+00],\n",
       "       [8.800e+00],\n",
       "       [0.000e+00],\n",
       "       [9.450e+00],\n",
       "       [0.000e+00],\n",
       "       [6.750e+00],\n",
       "       [1.800e+00],\n",
       "       [2.740e+01],\n",
       "       [0.000e+00],\n",
       "       [0.000e+00],\n",
       "       [0.000e+00],\n",
       "       [7.000e+00],\n",
       "       [1.216e+01],\n",
       "       [1.520e+00],\n",
       "       [5.400e-01],\n",
       "       [5.300e+00],\n",
       "       [2.550e+00],\n",
       "       [7.500e-01],\n",
       "       [0.000e+00],\n",
       "       [0.000e+00],\n",
       "       [0.000e+00],\n",
       "       [4.000e+00],\n",
       "       [2.000e+00],\n",
       "       [0.000e+00],\n",
       "       [4.000e-02],\n",
       "       [1.500e+01],\n",
       "       [0.000e+00],\n",
       "       [0.000e+00],\n",
       "       [4.200e+00],\n",
       "       [4.000e+00],\n",
       "       [8.000e+00],\n",
       "       [4.400e+00],\n",
       "       [2.000e+01],\n",
       "       [2.150e+00],\n",
       "       [4.800e+00],\n",
       "       [0.000e+00],\n",
       "       [0.000e+00],\n",
       "       [7.000e-01],\n",
       "       [4.000e-01],\n",
       "       [0.000e+00],\n",
       "       [5.000e-02],\n",
       "       [0.000e+00],\n",
       "       [0.000e+00],\n",
       "       [2.920e+00],\n",
       "       [3.000e+00],\n",
       "       [0.000e+00],\n",
       "       [1.600e-01],\n",
       "       [3.150e+00],\n",
       "       [2.750e+00],\n",
       "       [7.300e-01],\n",
       "       [3.200e+00],\n",
       "       [3.000e+00],\n",
       "       [0.000e+00],\n",
       "       [4.000e+00],\n",
       "       [5.800e+00],\n",
       "       [8.800e+00],\n",
       "       [5.000e-02],\n",
       "       [1.000e+00],\n",
       "       [3.000e+00],\n",
       "       [0.000e+00],\n",
       "       [0.000e+00],\n",
       "       [7.770e+00],\n",
       "       [5.200e-01],\n",
       "       [8.100e-01],\n",
       "       [0.000e+00],\n",
       "       [7.400e+00],\n",
       "       [0.000e+00],\n",
       "       [5.000e-01],\n",
       "       [2.400e+00],\n",
       "       [7.500e+00],\n",
       "       [7.280e+00],\n",
       "       [5.040e+00],\n",
       "       [4.460e+00],\n",
       "       [1.000e+01],\n",
       "       [2.000e+00],\n",
       "       [0.000e+00],\n",
       "       [2.350e+00],\n",
       "       [1.320e+01],\n",
       "       [1.750e+00],\n",
       "       [0.000e+00],\n",
       "       [0.000e+00],\n",
       "       [1.800e+01],\n",
       "       [5.500e+00],\n",
       "       [5.760e+00],\n",
       "       [0.000e+00],\n",
       "       [0.000e+00],\n",
       "       [5.200e+00],\n",
       "       [6.000e+00],\n",
       "       [4.180e+00],\n",
       "       [7.600e-01],\n",
       "       [4.600e+00],\n",
       "       [0.000e+00],\n",
       "       [4.000e-01],\n",
       "       [4.000e+00],\n",
       "       [6.000e-01],\n",
       "       [6.000e+00],\n",
       "       [6.170e+00],\n",
       "       [0.000e+00],\n",
       "       [3.000e+00],\n",
       "       [7.500e+00],\n",
       "       [9.000e+00],\n",
       "       [1.302e+01],\n",
       "       [5.080e+00],\n",
       "       [4.480e+00],\n",
       "       [1.200e+01],\n",
       "       [1.800e+00],\n",
       "       [0.000e+00],\n",
       "       [6.100e-01],\n",
       "       [1.040e+00],\n",
       "       [5.000e+00],\n",
       "       [9.900e+00],\n",
       "       [1.200e-01],\n",
       "       [1.200e-01],\n",
       "       [1.200e+01],\n",
       "       [1.000e-01],\n",
       "       [6.800e+00],\n",
       "       [0.000e+00],\n",
       "       [2.200e+00],\n",
       "       [1.360e+00],\n",
       "       [4.200e+00],\n",
       "       [8.000e-01],\n",
       "       [8.800e+00],\n",
       "       [2.020e+00],\n",
       "       [4.250e+00],\n",
       "       [0.000e+00],\n",
       "       [1.200e-01],\n",
       "       [1.080e+00],\n",
       "       [3.600e+00],\n",
       "       [0.000e+00],\n",
       "       [3.000e+00],\n",
       "       [1.500e+01],\n",
       "       [2.100e-01],\n",
       "       [0.000e+00],\n",
       "       [2.000e-02],\n",
       "       [5.000e-02],\n",
       "       [6.000e-01],\n",
       "       [0.000e+00],\n",
       "       [4.800e-01],\n",
       "       [1.800e-01],\n",
       "       [2.600e+00],\n",
       "       [0.000e+00],\n",
       "       [0.000e+00],\n",
       "       [1.000e-01],\n",
       "       [0.000e+00],\n",
       "       [1.200e+01],\n",
       "       [4.100e+00],\n",
       "       [0.000e+00],\n",
       "       [2.270e+00],\n",
       "       [0.000e+00],\n",
       "       [0.000e+00],\n",
       "       [1.200e+00],\n",
       "       [0.000e+00],\n",
       "       [1.440e+01],\n",
       "       [8.400e+00],\n",
       "       [2.400e+00],\n",
       "       [5.000e-02],\n",
       "       [3.500e+00],\n",
       "       [9.600e+00],\n",
       "       [1.500e+00],\n",
       "       [0.000e+00],\n",
       "       [5.150e+00],\n",
       "       [1.400e+00],\n",
       "       [0.000e+00],\n",
       "       [1.200e+00],\n",
       "       [1.140e+01],\n",
       "       [3.720e+00],\n",
       "       [0.000e+00],\n",
       "       [4.360e+00],\n",
       "       [6.000e+00],\n",
       "       [8.600e+00],\n",
       "       [1.700e+00],\n",
       "       [0.000e+00],\n",
       "       [0.000e+00],\n",
       "       [0.000e+00],\n",
       "       [5.600e+00],\n",
       "       [4.000e-01],\n",
       "       [3.100e-01],\n",
       "       [3.100e+00],\n",
       "       [6.400e+00],\n",
       "       [1.945e+01],\n",
       "       [1.350e+00],\n",
       "       [6.940e+00],\n",
       "       [7.280e+00],\n",
       "       [6.000e+00],\n",
       "       [0.000e+00],\n",
       "       [4.200e+00],\n",
       "       [1.620e+00],\n",
       "       [4.280e+00],\n",
       "       [6.300e+00],\n",
       "       [8.700e-01],\n",
       "       [1.200e+00],\n",
       "       [5.200e-01],\n",
       "       [4.500e+00],\n",
       "       [5.400e+00],\n",
       "       [8.000e-02],\n",
       "       [5.600e+00],\n",
       "       [1.050e+01],\n",
       "       [3.990e+00],\n",
       "       [1.200e+00],\n",
       "       [1.179e+01],\n",
       "       [1.700e+00],\n",
       "       [9.000e-01],\n",
       "       [0.000e+00],\n",
       "       [6.600e+00],\n",
       "       [4.050e+00],\n",
       "       [1.680e+00],\n",
       "       [1.230e+01],\n",
       "       [4.000e-01],\n",
       "       [4.200e+00],\n",
       "       [6.000e-01],\n",
       "       [3.020e+00],\n",
       "       [7.200e-01],\n",
       "       [0.000e+00],\n",
       "       [1.200e-01],\n",
       "       [3.400e+00],\n",
       "       [5.000e-01],\n",
       "       [8.200e+00],\n",
       "       [6.000e+00],\n",
       "       [1.600e+00],\n",
       "       [5.160e+00],\n",
       "       [0.000e+00],\n",
       "       [0.000e+00],\n",
       "       [3.600e+00],\n",
       "       [1.250e+00],\n",
       "       [9.600e-01],\n",
       "       [4.500e+00],\n",
       "       [1.440e+00],\n",
       "       [8.000e+00],\n",
       "       [1.680e+00],\n",
       "       [2.600e+00],\n",
       "       [1.960e+01],\n",
       "       [4.200e+00],\n",
       "       [0.000e+00],\n",
       "       [4.500e+00],\n",
       "       [0.000e+00],\n",
       "       [5.600e+00],\n",
       "       [5.400e-01],\n",
       "       [2.400e+00],\n",
       "       [9.500e-01],\n",
       "       [3.570e+00],\n",
       "       [1.250e+01],\n",
       "       [0.000e+00],\n",
       "       [7.000e+00],\n",
       "       [1.120e+01],\n",
       "       [8.750e+00],\n",
       "       [0.000e+00],\n",
       "       [6.100e+00],\n",
       "       [0.000e+00],\n",
       "       [5.500e+00],\n",
       "       [5.040e+00],\n",
       "       [1.150e+00],\n",
       "       [2.380e+00],\n",
       "       [2.501e+01],\n",
       "       [1.920e+01],\n",
       "       [4.200e+00],\n",
       "       [0.000e+00],\n",
       "       [2.000e+01],\n",
       "       [8.000e-01],\n",
       "       [8.200e+00],\n",
       "       [9.200e-01],\n",
       "       [6.400e+00],\n",
       "       [1.100e+00],\n",
       "       [1.600e+01],\n",
       "       [0.000e+00],\n",
       "       [2.800e+00],\n",
       "       [0.000e+00],\n",
       "       [5.500e+00],\n",
       "       [0.000e+00],\n",
       "       [1.380e+01],\n",
       "       [6.000e+00],\n",
       "       [2.200e+00],\n",
       "       [0.000e+00],\n",
       "       [1.320e+00],\n",
       "       [1.160e+00],\n",
       "       [7.200e+00],\n",
       "       [0.000e+00],\n",
       "       [0.000e+00],\n",
       "       [0.000e+00],\n",
       "       [0.000e+00],\n",
       "       [0.000e+00],\n",
       "       [0.000e+00],\n",
       "       [0.000e+00],\n",
       "       [0.000e+00],\n",
       "       [6.000e-02],\n",
       "       [1.220e+00],\n",
       "       [4.000e+00],\n",
       "       [0.000e+00],\n",
       "       [0.000e+00],\n",
       "       [6.000e+00],\n",
       "       [5.700e-01],\n",
       "       [3.000e+00],\n",
       "       [2.800e+00],\n",
       "       [0.000e+00],\n",
       "       [0.000e+00],\n",
       "       [1.800e+00],\n",
       "       [4.000e+00],\n",
       "       [1.810e+00],\n",
       "       [0.000e+00],\n",
       "       [5.530e+00],\n",
       "       [1.600e+00],\n",
       "       [6.400e-01],\n",
       "       [2.240e+00],\n",
       "       [4.000e-01]])"
      ]
     },
     "execution_count": 54,
     "metadata": {},
     "output_type": "execute_result"
    }
   ],
   "source": [
    "data['tobacco'].to_numpy().reshape(-1,1)[:-5]"
   ]
  },
  {
   "cell_type": "code",
   "execution_count": null,
   "metadata": {},
   "outputs": [],
   "source": []
  }
 ],
 "metadata": {
  "kernelspec": {
   "display_name": "Python 3",
   "language": "python",
   "name": "python3"
  },
  "language_info": {
   "codemirror_mode": {
    "name": "ipython",
    "version": 3
   },
   "file_extension": ".py",
   "mimetype": "text/x-python",
   "name": "python",
   "nbconvert_exporter": "python",
   "pygments_lexer": "ipython3",
   "version": "3.8.5"
  }
 },
 "nbformat": 4,
 "nbformat_minor": 4
}
